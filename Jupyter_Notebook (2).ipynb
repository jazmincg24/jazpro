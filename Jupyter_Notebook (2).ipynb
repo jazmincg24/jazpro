{
  "metadata": {
    "kernelspec": {
      "name": "python",
      "display_name": "Pyolite",
      "language": "python"
    },
    "language_info": {
      "codemirror_mode": {
        "name": "python",
        "version": 3
      },
      "file_extension": ".py",
      "mimetype": "text/x-python",
      "name": "python",
      "nbconvert_exporter": "python",
      "pygments_lexer": "ipython3",
      "version": "3.8"
    }
  },
  "nbformat_minor": 4,
  "nbformat": 4,
  "cells": [
    {
      "cell_type": "markdown",
      "source": "<center>\n    <img src=\"https://s3-api.us-geo.objectstorage.softlayer.net/cf-courses-data/CognitiveClass/Logos/organization_logo/organization_logo.png\" width=\"300\" alt=\"cognitiveclass.ai logo\"  />\n</center>\n",
      "metadata": {}
    },
    {
      "cell_type": "markdown",
      "source": "# My Jupyter Notebook on IBM Watson Studio",
      "metadata": {}
    },
    {
      "cell_type": "markdown",
      "source": "<b> Cinthia Jazmín Cabello García",
      "metadata": {}
    },
    {
      "cell_type": "markdown",
      "source": "Industrial Engineering",
      "metadata": {}
    },
    {
      "cell_type": "markdown",
      "source": "*I am interested in data science because I would like to bring value to my own organization with the data*",
      "metadata": {}
    },
    {
      "cell_type": "markdown",
      "source": "*I am interested in data science because we can provide tools to companies to reduce weaknesses*",
      "metadata": {}
    },
    {
      "cell_type": "markdown",
      "source": "### In the cell 6 the code make a simple operation",
      "metadata": {}
    },
    {
      "cell_type": "code",
      "source": "50*2+120",
      "metadata": {
        "trusted": true
      },
      "execution_count": 2,
      "outputs": [
        {
          "execution_count": 2,
          "output_type": "execute_result",
          "data": {
            "text/plain": "220"
          },
          "metadata": {}
        }
      ]
    },
    {
      "cell_type": "markdown",
      "source": "***",
      "metadata": {}
    },
    {
      "cell_type": "markdown",
      "source": "- one\n- two\n- three\n- four\n- five\n\n1. Apple\n2. Banana\n3. Pineapple",
      "metadata": {}
    },
    {
      "cell_type": "markdown",
      "source": "| Date | Description |\n| ----| ----|\n| 24 | so exhausted |\n| 25 | tired |\n| 26 | normal |",
      "metadata": {}
    },
    {
      "cell_type": "markdown",
      "source": "[link text](http://scielo.sld.cu/scielo.php?script=sci_arttext&pid=S0864-21252014000300009#:~:text=El%20estr%C3%A9s%20se%20considera%20como,su%20naturaleza%2C%20un%20fen%C3%B3meno%20psicofisiol%C3%B3gico.)",
      "metadata": {}
    },
    {
      "cell_type": "markdown",
      "source": "<img src=https://estaticos.muyinteresante.es/media/cache/1140x_thumb/uploads/images/gallery/5f5f75985bafe8ec5634fc87/dogo-argentino-hierba_1.jpg>",
      "metadata": {}
    },
    {
      "cell_type": "markdown",
      "source": "<code>a-b=5<code>",
      "metadata": {}
    },
    {
      "cell_type": "markdown",
      "source": ">It is ok",
      "metadata": {}
    },
    {
      "cell_type": "markdown",
      "source": ">**Go to the vet**",
      "metadata": {}
    },
    {
      "cell_type": "markdown",
      "source": "~Go to the park~",
      "metadata": {}
    }
  ]
}